{
 "cells": [
  {
   "cell_type": "markdown",
   "metadata": {},
   "source": [
    "Preparar a base de dados dos discentes para admissão no estágio."
   ]
  },
  {
   "cell_type": "code",
   "execution_count": 1,
   "metadata": {},
   "outputs": [
    {
     "data": {
      "text/html": [
       "<div>\n",
       "<style scoped>\n",
       "    .dataframe tbody tr th:only-of-type {\n",
       "        vertical-align: middle;\n",
       "    }\n",
       "\n",
       "    .dataframe tbody tr th {\n",
       "        vertical-align: top;\n",
       "    }\n",
       "\n",
       "    .dataframe thead th {\n",
       "        text-align: right;\n",
       "    }\n",
       "</style>\n",
       "<table border=\"1\" class=\"dataframe\">\n",
       "  <thead>\n",
       "    <tr style=\"text-align: right;\">\n",
       "      <th></th>\n",
       "      <th>NOME</th>\n",
       "      <th>CPF</th>\n",
       "      <th>DATA DE NASCIMENTO</th>\n",
       "      <th>SEXO</th>\n",
       "      <th>DATA DE INICIO</th>\n",
       "      <th>DATA FIM</th>\n",
       "      <th>FORMA DE INGRESSO</th>\n",
       "      <th>PESSOA COM DEFICIÊNCIA</th>\n",
       "      <th>MODALIDADE DO ESTÁGIO</th>\n",
       "      <th>CURSO</th>\n",
       "    </tr>\n",
       "  </thead>\n",
       "  <tbody>\n",
       "    <tr>\n",
       "      <th>0</th>\n",
       "      <td>ANIELLY FERNANDA REIS PEREIRA</td>\n",
       "      <td>051.385.733-81</td>\n",
       "      <td>08/09/1993</td>\n",
       "      <td>F</td>\n",
       "      <td>17/03/2022</td>\n",
       "      <td>17/03/2023</td>\n",
       "      <td>REINGRESSO SEGUNDO CICLO</td>\n",
       "      <td>Não</td>\n",
       "      <td>Não obrigatório</td>\n",
       "      <td>ENGENHARIA MECÂNICA - SÃO LUÍS</td>\n",
       "    </tr>\n",
       "    <tr>\n",
       "      <th>1</th>\n",
       "      <td>ARTHUR FRANCA MARTINS</td>\n",
       "      <td>063.500.693-66</td>\n",
       "      <td>09/06/1997</td>\n",
       "      <td>M</td>\n",
       "      <td>01/08/2022</td>\n",
       "      <td>31/12/2022</td>\n",
       "      <td>REINGRESSO SEGUNDO CICLO</td>\n",
       "      <td>Não</td>\n",
       "      <td>Não obrigatório</td>\n",
       "      <td>ENGENHARIA MECÂNICA - SÃO LUÍS</td>\n",
       "    </tr>\n",
       "  </tbody>\n",
       "</table>\n",
       "</div>"
      ],
      "text/plain": [
       "                            NOME             CPF DATA DE NASCIMENTO SEXO  \\\n",
       "0  ANIELLY FERNANDA REIS PEREIRA  051.385.733-81         08/09/1993    F   \n",
       "1          ARTHUR FRANCA MARTINS  063.500.693-66         09/06/1997    M   \n",
       "\n",
       "  DATA DE INICIO    DATA FIM         FORMA DE INGRESSO PESSOA COM DEFICIÊNCIA  \\\n",
       "0     17/03/2022  17/03/2023  REINGRESSO SEGUNDO CICLO                   Não    \n",
       "1     01/08/2022  31/12/2022  REINGRESSO SEGUNDO CICLO                   Não    \n",
       "\n",
       "  MODALIDADE DO ESTÁGIO                           CURSO  \n",
       "0       Não obrigatório  ENGENHARIA MECÂNICA - SÃO LUÍS  \n",
       "1       Não obrigatório  ENGENHARIA MECÂNICA - SÃO LUÍS  "
      ]
     },
     "execution_count": 1,
     "metadata": {},
     "output_type": "execute_result"
    }
   ],
   "source": [
    "import pandas as pd\n",
    "discentes = pd.read_csv(\"discentes-admissao-estagio.csv\", delimiter=\";\")\n",
    "discentes.head(2)"
   ]
  },
  {
   "cell_type": "markdown",
   "metadata": {},
   "source": [
    "Verificar as informações na tabela, para ter noção dos tipos de variáveis dentro da base."
   ]
  },
  {
   "cell_type": "code",
   "execution_count": 2,
   "metadata": {},
   "outputs": [
    {
     "name": "stdout",
     "output_type": "stream",
     "text": [
      "<class 'pandas.core.frame.DataFrame'>\n",
      "RangeIndex: 40 entries, 0 to 39\n",
      "Data columns (total 10 columns):\n",
      " #   Column                  Non-Null Count  Dtype \n",
      "---  ------                  --------------  ----- \n",
      " 0   NOME                    40 non-null     object\n",
      " 1   CPF                     40 non-null     object\n",
      " 2   DATA DE NASCIMENTO      40 non-null     object\n",
      " 3   SEXO                    40 non-null     object\n",
      " 4   DATA DE INICIO          40 non-null     object\n",
      " 5   DATA FIM                40 non-null     object\n",
      " 6   FORMA DE INGRESSO       40 non-null     object\n",
      " 7   PESSOA COM DEFICIÊNCIA  40 non-null     object\n",
      " 8   MODALIDADE DO ESTÁGIO   40 non-null     object\n",
      " 9   CURSO                   40 non-null     object\n",
      "dtypes: object(10)\n",
      "memory usage: 3.3+ KB\n"
     ]
    }
   ],
   "source": [
    "discentes.info()"
   ]
  },
  {
   "cell_type": "markdown",
   "metadata": {},
   "source": [
    "Conversão das colunas de data para o formato DateTime."
   ]
  },
  {
   "cell_type": "code",
   "execution_count": 3,
   "metadata": {},
   "outputs": [
    {
     "data": {
      "text/html": [
       "<div>\n",
       "<style scoped>\n",
       "    .dataframe tbody tr th:only-of-type {\n",
       "        vertical-align: middle;\n",
       "    }\n",
       "\n",
       "    .dataframe tbody tr th {\n",
       "        vertical-align: top;\n",
       "    }\n",
       "\n",
       "    .dataframe thead th {\n",
       "        text-align: right;\n",
       "    }\n",
       "</style>\n",
       "<table border=\"1\" class=\"dataframe\">\n",
       "  <thead>\n",
       "    <tr style=\"text-align: right;\">\n",
       "      <th></th>\n",
       "      <th>NOME</th>\n",
       "      <th>CPF</th>\n",
       "      <th>DATA DE NASCIMENTO</th>\n",
       "      <th>SEXO</th>\n",
       "      <th>DATA DE INICIO</th>\n",
       "      <th>DATA FIM</th>\n",
       "      <th>FORMA DE INGRESSO</th>\n",
       "      <th>PESSOA COM DEFICIÊNCIA</th>\n",
       "      <th>MODALIDADE DO ESTÁGIO</th>\n",
       "      <th>CURSO</th>\n",
       "    </tr>\n",
       "  </thead>\n",
       "  <tbody>\n",
       "    <tr>\n",
       "      <th>0</th>\n",
       "      <td>ANIELLY FERNANDA REIS PEREIRA</td>\n",
       "      <td>051.385.733-81</td>\n",
       "      <td>1993-09-08</td>\n",
       "      <td>F</td>\n",
       "      <td>2022-03-17</td>\n",
       "      <td>2023-03-17</td>\n",
       "      <td>REINGRESSO SEGUNDO CICLO</td>\n",
       "      <td>Não</td>\n",
       "      <td>Não obrigatório</td>\n",
       "      <td>ENGENHARIA MECÂNICA - SÃO LUÍS</td>\n",
       "    </tr>\n",
       "    <tr>\n",
       "      <th>1</th>\n",
       "      <td>ARTHUR FRANCA MARTINS</td>\n",
       "      <td>063.500.693-66</td>\n",
       "      <td>1997-06-09</td>\n",
       "      <td>M</td>\n",
       "      <td>2022-08-01</td>\n",
       "      <td>2022-12-31</td>\n",
       "      <td>REINGRESSO SEGUNDO CICLO</td>\n",
       "      <td>Não</td>\n",
       "      <td>Não obrigatório</td>\n",
       "      <td>ENGENHARIA MECÂNICA - SÃO LUÍS</td>\n",
       "    </tr>\n",
       "    <tr>\n",
       "      <th>2</th>\n",
       "      <td>AYRTON PABLO RAIOL MONROE</td>\n",
       "      <td>056.208.173-93</td>\n",
       "      <td>1995-05-01</td>\n",
       "      <td>M</td>\n",
       "      <td>2022-01-17</td>\n",
       "      <td>2024-01-16</td>\n",
       "      <td>REINGRESSO SEGUNDO CICLO</td>\n",
       "      <td>Não</td>\n",
       "      <td>Não obrigatório</td>\n",
       "      <td>ENGENHARIA MECÂNICA - SÃO LUÍS</td>\n",
       "    </tr>\n",
       "    <tr>\n",
       "      <th>3</th>\n",
       "      <td>AYSLA CAROLINE SOUSA OLIVEIRA</td>\n",
       "      <td>048.413.943-62</td>\n",
       "      <td>1994-03-03</td>\n",
       "      <td>F</td>\n",
       "      <td>2021-04-12</td>\n",
       "      <td>2023-03-13</td>\n",
       "      <td>REINGRESSO SEGUNDO CICLO</td>\n",
       "      <td>Não</td>\n",
       "      <td>Não obrigatório</td>\n",
       "      <td>ENGENHARIA MECÂNICA - SÃO LUÍS</td>\n",
       "    </tr>\n",
       "    <tr>\n",
       "      <th>4</th>\n",
       "      <td>AYSLA CAROLINE SOUSA OLIVEIRA</td>\n",
       "      <td>048.413.943-62</td>\n",
       "      <td>1994-03-03</td>\n",
       "      <td>F</td>\n",
       "      <td>2020-10-21</td>\n",
       "      <td>2021-02-19</td>\n",
       "      <td>REINGRESSO SEGUNDO CICLO</td>\n",
       "      <td>Não</td>\n",
       "      <td>Não obrigatório</td>\n",
       "      <td>ENGENHARIA MECÂNICA - SÃO LUÍS</td>\n",
       "    </tr>\n",
       "  </tbody>\n",
       "</table>\n",
       "</div>"
      ],
      "text/plain": [
       "                            NOME             CPF DATA DE NASCIMENTO SEXO  \\\n",
       "0  ANIELLY FERNANDA REIS PEREIRA  051.385.733-81         1993-09-08    F   \n",
       "1          ARTHUR FRANCA MARTINS  063.500.693-66         1997-06-09    M   \n",
       "2      AYRTON PABLO RAIOL MONROE  056.208.173-93         1995-05-01    M   \n",
       "3  AYSLA CAROLINE SOUSA OLIVEIRA  048.413.943-62         1994-03-03    F   \n",
       "4  AYSLA CAROLINE SOUSA OLIVEIRA  048.413.943-62         1994-03-03    F   \n",
       "\n",
       "  DATA DE INICIO   DATA FIM         FORMA DE INGRESSO PESSOA COM DEFICIÊNCIA  \\\n",
       "0     2022-03-17 2023-03-17  REINGRESSO SEGUNDO CICLO                   Não    \n",
       "1     2022-08-01 2022-12-31  REINGRESSO SEGUNDO CICLO                   Não    \n",
       "2     2022-01-17 2024-01-16  REINGRESSO SEGUNDO CICLO                   Não    \n",
       "3     2021-04-12 2023-03-13  REINGRESSO SEGUNDO CICLO                   Não    \n",
       "4     2020-10-21 2021-02-19  REINGRESSO SEGUNDO CICLO                   Não    \n",
       "\n",
       "  MODALIDADE DO ESTÁGIO                           CURSO  \n",
       "0       Não obrigatório  ENGENHARIA MECÂNICA - SÃO LUÍS  \n",
       "1       Não obrigatório  ENGENHARIA MECÂNICA - SÃO LUÍS  \n",
       "2       Não obrigatório  ENGENHARIA MECÂNICA - SÃO LUÍS  \n",
       "3       Não obrigatório  ENGENHARIA MECÂNICA - SÃO LUÍS  \n",
       "4       Não obrigatório  ENGENHARIA MECÂNICA - SÃO LUÍS  "
      ]
     },
     "execution_count": 3,
     "metadata": {},
     "output_type": "execute_result"
    }
   ],
   "source": [
    "discentes['DATA DE INICIO'] = pd.to_datetime(discentes['DATA DE INICIO'], format= \"%d/%m/%Y\")\n",
    "discentes['DATA DE NASCIMENTO'] = pd.to_datetime(discentes['DATA DE NASCIMENTO'], format= \"%d/%m/%Y\")\n",
    "discentes['DATA FIM'] = pd.to_datetime(discentes['DATA FIM'], format= \"%d/%m/%Y\")\n",
    "discentes.head()"
   ]
  },
  {
   "cell_type": "markdown",
   "metadata": {},
   "source": [
    "Separação das colunas de data, para posteriormente trabalharmos uma previsão."
   ]
  },
  {
   "cell_type": "code",
   "execution_count": 4,
   "metadata": {},
   "outputs": [
    {
     "data": {
      "text/html": [
       "<div>\n",
       "<style scoped>\n",
       "    .dataframe tbody tr th:only-of-type {\n",
       "        vertical-align: middle;\n",
       "    }\n",
       "\n",
       "    .dataframe tbody tr th {\n",
       "        vertical-align: top;\n",
       "    }\n",
       "\n",
       "    .dataframe thead th {\n",
       "        text-align: right;\n",
       "    }\n",
       "</style>\n",
       "<table border=\"1\" class=\"dataframe\">\n",
       "  <thead>\n",
       "    <tr style=\"text-align: right;\">\n",
       "      <th></th>\n",
       "      <th>NOME</th>\n",
       "      <th>CPF</th>\n",
       "      <th>DATA DE NASCIMENTO</th>\n",
       "      <th>SEXO</th>\n",
       "      <th>FORMA DE INGRESSO</th>\n",
       "      <th>PESSOA COM DEFICIÊNCIA</th>\n",
       "      <th>MODALIDADE DO ESTÁGIO</th>\n",
       "      <th>CURSO</th>\n",
       "      <th>DIA DE INICIO</th>\n",
       "      <th>MÊS DE INICIO</th>\n",
       "      <th>ANO DE INICIO</th>\n",
       "      <th>DIA DE FIM</th>\n",
       "      <th>MÊS DE FIM</th>\n",
       "      <th>ANO DE FIM</th>\n",
       "    </tr>\n",
       "  </thead>\n",
       "  <tbody>\n",
       "    <tr>\n",
       "      <th>0</th>\n",
       "      <td>ANIELLY FERNANDA REIS PEREIRA</td>\n",
       "      <td>051.385.733-81</td>\n",
       "      <td>1993-09-08</td>\n",
       "      <td>F</td>\n",
       "      <td>REINGRESSO SEGUNDO CICLO</td>\n",
       "      <td>Não</td>\n",
       "      <td>Não obrigatório</td>\n",
       "      <td>ENGENHARIA MECÂNICA - SÃO LUÍS</td>\n",
       "      <td>17</td>\n",
       "      <td>3</td>\n",
       "      <td>2022</td>\n",
       "      <td>17</td>\n",
       "      <td>3</td>\n",
       "      <td>2023</td>\n",
       "    </tr>\n",
       "    <tr>\n",
       "      <th>1</th>\n",
       "      <td>ARTHUR FRANCA MARTINS</td>\n",
       "      <td>063.500.693-66</td>\n",
       "      <td>1997-06-09</td>\n",
       "      <td>M</td>\n",
       "      <td>REINGRESSO SEGUNDO CICLO</td>\n",
       "      <td>Não</td>\n",
       "      <td>Não obrigatório</td>\n",
       "      <td>ENGENHARIA MECÂNICA - SÃO LUÍS</td>\n",
       "      <td>1</td>\n",
       "      <td>8</td>\n",
       "      <td>2022</td>\n",
       "      <td>31</td>\n",
       "      <td>12</td>\n",
       "      <td>2022</td>\n",
       "    </tr>\n",
       "    <tr>\n",
       "      <th>2</th>\n",
       "      <td>AYRTON PABLO RAIOL MONROE</td>\n",
       "      <td>056.208.173-93</td>\n",
       "      <td>1995-05-01</td>\n",
       "      <td>M</td>\n",
       "      <td>REINGRESSO SEGUNDO CICLO</td>\n",
       "      <td>Não</td>\n",
       "      <td>Não obrigatório</td>\n",
       "      <td>ENGENHARIA MECÂNICA - SÃO LUÍS</td>\n",
       "      <td>17</td>\n",
       "      <td>1</td>\n",
       "      <td>2022</td>\n",
       "      <td>16</td>\n",
       "      <td>1</td>\n",
       "      <td>2024</td>\n",
       "    </tr>\n",
       "    <tr>\n",
       "      <th>3</th>\n",
       "      <td>AYSLA CAROLINE SOUSA OLIVEIRA</td>\n",
       "      <td>048.413.943-62</td>\n",
       "      <td>1994-03-03</td>\n",
       "      <td>F</td>\n",
       "      <td>REINGRESSO SEGUNDO CICLO</td>\n",
       "      <td>Não</td>\n",
       "      <td>Não obrigatório</td>\n",
       "      <td>ENGENHARIA MECÂNICA - SÃO LUÍS</td>\n",
       "      <td>12</td>\n",
       "      <td>4</td>\n",
       "      <td>2021</td>\n",
       "      <td>13</td>\n",
       "      <td>3</td>\n",
       "      <td>2023</td>\n",
       "    </tr>\n",
       "    <tr>\n",
       "      <th>4</th>\n",
       "      <td>AYSLA CAROLINE SOUSA OLIVEIRA</td>\n",
       "      <td>048.413.943-62</td>\n",
       "      <td>1994-03-03</td>\n",
       "      <td>F</td>\n",
       "      <td>REINGRESSO SEGUNDO CICLO</td>\n",
       "      <td>Não</td>\n",
       "      <td>Não obrigatório</td>\n",
       "      <td>ENGENHARIA MECÂNICA - SÃO LUÍS</td>\n",
       "      <td>21</td>\n",
       "      <td>10</td>\n",
       "      <td>2020</td>\n",
       "      <td>19</td>\n",
       "      <td>2</td>\n",
       "      <td>2021</td>\n",
       "    </tr>\n",
       "  </tbody>\n",
       "</table>\n",
       "</div>"
      ],
      "text/plain": [
       "                            NOME             CPF DATA DE NASCIMENTO SEXO  \\\n",
       "0  ANIELLY FERNANDA REIS PEREIRA  051.385.733-81         1993-09-08    F   \n",
       "1          ARTHUR FRANCA MARTINS  063.500.693-66         1997-06-09    M   \n",
       "2      AYRTON PABLO RAIOL MONROE  056.208.173-93         1995-05-01    M   \n",
       "3  AYSLA CAROLINE SOUSA OLIVEIRA  048.413.943-62         1994-03-03    F   \n",
       "4  AYSLA CAROLINE SOUSA OLIVEIRA  048.413.943-62         1994-03-03    F   \n",
       "\n",
       "          FORMA DE INGRESSO PESSOA COM DEFICIÊNCIA MODALIDADE DO ESTÁGIO  \\\n",
       "0  REINGRESSO SEGUNDO CICLO                   Não        Não obrigatório   \n",
       "1  REINGRESSO SEGUNDO CICLO                   Não        Não obrigatório   \n",
       "2  REINGRESSO SEGUNDO CICLO                   Não        Não obrigatório   \n",
       "3  REINGRESSO SEGUNDO CICLO                   Não        Não obrigatório   \n",
       "4  REINGRESSO SEGUNDO CICLO                   Não        Não obrigatório   \n",
       "\n",
       "                            CURSO  DIA DE INICIO  MÊS DE INICIO  \\\n",
       "0  ENGENHARIA MECÂNICA - SÃO LUÍS             17              3   \n",
       "1  ENGENHARIA MECÂNICA - SÃO LUÍS              1              8   \n",
       "2  ENGENHARIA MECÂNICA - SÃO LUÍS             17              1   \n",
       "3  ENGENHARIA MECÂNICA - SÃO LUÍS             12              4   \n",
       "4  ENGENHARIA MECÂNICA - SÃO LUÍS             21             10   \n",
       "\n",
       "   ANO DE INICIO  DIA DE FIM  MÊS DE FIM  ANO DE FIM  \n",
       "0           2022          17           3        2023  \n",
       "1           2022          31          12        2022  \n",
       "2           2022          16           1        2024  \n",
       "3           2021          13           3        2023  \n",
       "4           2020          19           2        2021  "
      ]
     },
     "execution_count": 4,
     "metadata": {},
     "output_type": "execute_result"
    }
   ],
   "source": [
    "#Separação da coluna de inicio\n",
    "discentes['DIA DE INICIO'] = discentes['DATA DE INICIO'].dt.day\n",
    "discentes['MÊS DE INICIO'] = discentes['DATA DE INICIO'].dt.month\n",
    "discentes['ANO DE INICIO'] = discentes['DATA DE INICIO'].dt.year\n",
    "\n",
    "#Separação da coluna de fim\n",
    "discentes['DIA DE FIM'] = discentes['DATA FIM'].dt.day\n",
    "discentes['MÊS DE FIM'] = discentes['DATA FIM'].dt.month\n",
    "discentes['ANO DE FIM'] = discentes['DATA FIM'].dt.year\n",
    "\n",
    "#Remoção das colunas de data de fim e início\n",
    "discentes = discentes.drop(columns=['DATA DE INICIO','DATA FIM'])\n",
    "discentes.head()"
   ]
  },
  {
   "cell_type": "markdown",
   "metadata": {},
   "source": [
    "Verificar as informações na tabela, para verificar se as colunas foram modificadas."
   ]
  },
  {
   "cell_type": "code",
   "execution_count": 5,
   "metadata": {},
   "outputs": [
    {
     "name": "stdout",
     "output_type": "stream",
     "text": [
      "<class 'pandas.core.frame.DataFrame'>\n",
      "RangeIndex: 40 entries, 0 to 39\n",
      "Data columns (total 14 columns):\n",
      " #   Column                  Non-Null Count  Dtype         \n",
      "---  ------                  --------------  -----         \n",
      " 0   NOME                    40 non-null     object        \n",
      " 1   CPF                     40 non-null     object        \n",
      " 2   DATA DE NASCIMENTO      40 non-null     datetime64[ns]\n",
      " 3   SEXO                    40 non-null     object        \n",
      " 4   FORMA DE INGRESSO       40 non-null     object        \n",
      " 5   PESSOA COM DEFICIÊNCIA  40 non-null     object        \n",
      " 6   MODALIDADE DO ESTÁGIO   40 non-null     object        \n",
      " 7   CURSO                   40 non-null     object        \n",
      " 8   DIA DE INICIO           40 non-null     int32         \n",
      " 9   MÊS DE INICIO           40 non-null     int32         \n",
      " 10  ANO DE INICIO           40 non-null     int32         \n",
      " 11  DIA DE FIM              40 non-null     int32         \n",
      " 12  MÊS DE FIM              40 non-null     int32         \n",
      " 13  ANO DE FIM              40 non-null     int32         \n",
      "dtypes: datetime64[ns](1), int32(6), object(7)\n",
      "memory usage: 3.6+ KB\n"
     ]
    }
   ],
   "source": [
    "discentes.info()"
   ]
  },
  {
   "cell_type": "markdown",
   "metadata": {},
   "source": [
    "Como queremos prever a coluna o ano de fim do estágio, devemos tratar algumas colunas de objeto para numéricas, para que sejam codificadas pela biblioteca SkLearn."
   ]
  },
  {
   "cell_type": "code",
   "execution_count": 30,
   "metadata": {},
   "outputs": [
    {
     "name": "stdout",
     "output_type": "stream",
     "text": [
      "<class 'pandas.core.frame.DataFrame'>\n",
      "RangeIndex: 40 entries, 0 to 39\n",
      "Data columns (total 14 columns):\n",
      " #   Column                  Non-Null Count  Dtype         \n",
      "---  ------                  --------------  -----         \n",
      " 0   NOME                    40 non-null     object        \n",
      " 1   CPF                     40 non-null     object        \n",
      " 2   DATA DE NASCIMENTO      40 non-null     datetime64[ns]\n",
      " 3   SEXO                    40 non-null     object        \n",
      " 4   FORMA DE INGRESSO       40 non-null     int64         \n",
      " 5   PESSOA COM DEFICIÊNCIA  40 non-null     object        \n",
      " 6   MODALIDADE DO ESTÁGIO   40 non-null     int64         \n",
      " 7   CURSO                   40 non-null     int64         \n",
      " 8   DIA DE INICIO           40 non-null     int32         \n",
      " 9   MÊS DE INICIO           40 non-null     int32         \n",
      " 10  ANO DE INICIO           40 non-null     int32         \n",
      " 11  DIA DE FIM              40 non-null     int32         \n",
      " 12  MÊS DE FIM              40 non-null     int32         \n",
      " 13  ANO DE FIM              40 non-null     int32         \n",
      "dtypes: datetime64[ns](1), int32(6), int64(3), object(4)\n",
      "memory usage: 3.6+ KB\n"
     ]
    }
   ],
   "source": [
    "from sklearn.preprocessing import LabelEncoder\n",
    "codificador = LabelEncoder() #Transformador codificador\n",
    "\n",
    "#Codificação da forma de ingressos dos discentes\n",
    "discentes['FORMA DE INGRESSO'] = codificador.fit_transform(discentes['FORMA DE INGRESSO'])\n",
    "\n",
    "#Codificação da forma da modalidade de estágio dos discentes\n",
    "discentes['MODALIDADE DO ESTÁGIO'] = codificador.fit_transform(discentes['MODALIDADE DO ESTÁGIO'])\n",
    "\n",
    "#Codificação da forma da curso dos discentes\n",
    "discentes['CURSO'] = codificador.fit_transform(discentes['CURSO'])\n",
    "\n",
    "discentes.info()"
   ]
  },
  {
   "cell_type": "markdown",
   "metadata": {},
   "source": [
    "Preparação dos modelos de teste e treino.\n",
    "Na biblioteca no SKLearn, sempre damos mais dados de treino do que de teste. Ele transformará os dados em linhas em colunas, para que as probabilidades sejam estudadas em formas gráficas de vetores."
   ]
  },
  {
   "cell_type": "code",
   "execution_count": 58,
   "metadata": {},
   "outputs": [],
   "source": [
    "#Coluna que iremos prever\n",
    "y = discentes['ANO DE FIM']\n",
    "\n",
    "#Colunas que não iremos utilizar para fazer a previsão. Deve ser no formato drop para restringir as colunas.\n",
    "#Transformar em uma variável toda a tabela MENOS essas colunas.\n",
    "x = discentes.drop(columns=['NOME','CPF','DATA DE NASCIMENTO','SEXO','PESSOA COM DEFICIÊNCIA','ANO DE FIM'], axis = 1)\n",
    "\n",
    "#Importar o modelo de treino e teste\n",
    "from sklearn.model_selection import train_test_split\n",
    "\n",
    "#Divisão dos dados presentes nos nas variáveis x e y.\n",
    "x_treino, x_teste, y_treino, y_teste = train_test_split(x, y, test_size=0.3, random_state=42) \n",
    "#Analisará as combinações entre linhas e colunas na proporção de 30% para o conjunto de teste e 70% para o conjunto de treino.\n",
    "#Random state serve para garantir a divisão dos dados sempre que executar o código"
   ]
  },
  {
   "cell_type": "markdown",
   "metadata": {},
   "source": [
    "Desta forma, o modelo de teste deve utilizar a Forma de Ingresso, Modalidade de Estágio, Curso, Data de Inicio e Dia e Mês do Fim como parâmetros para nossa previsão de ano de fim."
   ]
  },
  {
   "cell_type": "markdown",
   "metadata": {},
   "source": [
    "Para esta base de dados utilizaremos o modelo de Árvore de Classificação (ExtraTreesClassifier), mas na biblioteca existem diversos modelos que podem ser utlizados para aprendizado."
   ]
  },
  {
   "cell_type": "code",
   "execution_count": 63,
   "metadata": {},
   "outputs": [
    {
     "name": "stdout",
     "output_type": "stream",
     "text": [
      "A máquina registrou uma probabilidade de 50.00% de acerto.\n"
     ]
    }
   ],
   "source": [
    "from sklearn.ensemble import ExtraTreesClassifier\n",
    "\n",
    "modelo = ExtraTreesClassifier()\n",
    "\n",
    "#Fornecer variáreis para o modelo.\n",
    "modelo.fit(x_treino, y_treino)\n",
    "resultado =(modelo.score(x_teste, y_teste)) * 100\n",
    "print(f'A máquina registrou uma probabilidade de {resultado:.2f}% de acerto.')"
   ]
  },
  {
   "cell_type": "code",
   "execution_count": 64,
   "metadata": {},
   "outputs": [
    {
     "data": {
      "text/html": [
       "<div>\n",
       "<style scoped>\n",
       "    .dataframe tbody tr th:only-of-type {\n",
       "        vertical-align: middle;\n",
       "    }\n",
       "\n",
       "    .dataframe tbody tr th {\n",
       "        vertical-align: top;\n",
       "    }\n",
       "\n",
       "    .dataframe thead th {\n",
       "        text-align: right;\n",
       "    }\n",
       "</style>\n",
       "<table border=\"1\" class=\"dataframe\">\n",
       "  <thead>\n",
       "    <tr style=\"text-align: right;\">\n",
       "      <th></th>\n",
       "      <th>FORMA DE INGRESSO</th>\n",
       "      <th>MODALIDADE DO ESTÁGIO</th>\n",
       "      <th>CURSO</th>\n",
       "      <th>DIA DE INICIO</th>\n",
       "      <th>MÊS DE INICIO</th>\n",
       "      <th>ANO DE INICIO</th>\n",
       "      <th>DIA DE FIM</th>\n",
       "      <th>MÊS DE FIM</th>\n",
       "    </tr>\n",
       "  </thead>\n",
       "  <tbody>\n",
       "    <tr>\n",
       "      <th>25</th>\n",
       "      <td>0</td>\n",
       "      <td>0</td>\n",
       "      <td>0</td>\n",
       "      <td>17</td>\n",
       "      <td>11</td>\n",
       "      <td>2021</td>\n",
       "      <td>15</td>\n",
       "      <td>5</td>\n",
       "    </tr>\n",
       "    <tr>\n",
       "      <th>9</th>\n",
       "      <td>0</td>\n",
       "      <td>0</td>\n",
       "      <td>0</td>\n",
       "      <td>15</td>\n",
       "      <td>4</td>\n",
       "      <td>2024</td>\n",
       "      <td>14</td>\n",
       "      <td>4</td>\n",
       "    </tr>\n",
       "  </tbody>\n",
       "</table>\n",
       "</div>"
      ],
      "text/plain": [
       "    FORMA DE INGRESSO  MODALIDADE DO ESTÁGIO  CURSO  DIA DE INICIO  \\\n",
       "25                  0                      0      0             17   \n",
       "9                   0                      0      0             15   \n",
       "\n",
       "    MÊS DE INICIO  ANO DE INICIO  DIA DE FIM  MÊS DE FIM  \n",
       "25             11           2021          15           5  \n",
       "9               4           2024          14           4  "
      ]
     },
     "execution_count": 64,
     "metadata": {},
     "output_type": "execute_result"
    }
   ],
   "source": [
    "x_teste[10:40]"
   ]
  },
  {
   "cell_type": "code",
   "execution_count": 65,
   "metadata": {},
   "outputs": [
    {
     "name": "stdout",
     "output_type": "stream",
     "text": [
      "[2023 2025]\n"
     ]
    }
   ],
   "source": [
    "previsao = modelo.predict(x_teste[10:40])\n",
    "print(previsao)"
   ]
  },
  {
   "cell_type": "markdown",
   "metadata": {},
   "source": [
    "Verificando valores dependentes e independentes de cada variável."
   ]
  },
  {
   "cell_type": "code",
   "execution_count": 66,
   "metadata": {},
   "outputs": [
    {
     "name": "stdout",
     "output_type": "stream",
     "text": [
      "ANO DE FIM\n",
      "2023    12\n",
      "2024     8\n",
      "2022     3\n",
      "2021     3\n",
      "2025     2\n",
      "Name: count, dtype: int64\n"
     ]
    }
   ],
   "source": [
    "print(y_treino.value_counts())"
   ]
  },
  {
   "cell_type": "code",
   "execution_count": 67,
   "metadata": {},
   "outputs": [
    {
     "name": "stdout",
     "output_type": "stream",
     "text": [
      "ANO DE FIM\n",
      "2023    4\n",
      "2024    4\n",
      "2025    2\n",
      "2021    1\n",
      "2022    1\n",
      "Name: count, dtype: int64\n"
     ]
    }
   ],
   "source": [
    "print(y_teste.value_counts())"
   ]
  }
 ],
 "metadata": {
  "kernelspec": {
   "display_name": "base",
   "language": "python",
   "name": "python3"
  },
  "language_info": {
   "codemirror_mode": {
    "name": "ipython",
    "version": 3
   },
   "file_extension": ".py",
   "mimetype": "text/x-python",
   "name": "python",
   "nbconvert_exporter": "python",
   "pygments_lexer": "ipython3",
   "version": "3.11.7"
  }
 },
 "nbformat": 4,
 "nbformat_minor": 2
}
