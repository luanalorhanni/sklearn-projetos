{
 "cells": [
  {
   "cell_type": "code",
   "execution_count": 13,
   "id": "f0d65384-a43e-4531-b29e-b44fda0ead1d",
   "metadata": {},
   "outputs": [
    {
     "data": {
      "text/plain": [
       "'R$5,00'"
      ]
     },
     "execution_count": 13,
     "metadata": {},
     "output_type": "execute_result"
    }
   ],
   "source": [
    "#elemento chave e seu valor\n",
    "dicionario = {'refrigerante':'R$5,00', \n",
    "              'Suco':'R$10,00', \n",
    "              'Água':'R$2,50'}\n",
    "\n",
    "#busca do elemento chave e seu valor\n",
    "dicionario['refrigerante']"
   ]
  },
  {
   "cell_type": "code",
   "execution_count": 11,
   "id": "99a6590d-f0bd-4076-8da4-f2bd4f52bdf4",
   "metadata": {},
   "outputs": [
    {
     "data": {
      "text/plain": [
       "dict_keys(['refrigerante', 'Suco', 'Água'])"
      ]
     },
     "execution_count": 11,
     "metadata": {},
     "output_type": "execute_result"
    }
   ],
   "source": [
    "#mostra todos os elementos chaves dentro do dicionario\n",
    "dicionario.keys()"
   ]
  },
  {
   "cell_type": "code",
   "execution_count": 12,
   "id": "3c0232f5-943b-4a97-b059-9d936ac55bb9",
   "metadata": {},
   "outputs": [
    {
     "data": {
      "text/plain": [
       "dict_values(['R$5,00', 'R$10,00', 'R$2,50'])"
      ]
     },
     "execution_count": 12,
     "metadata": {},
     "output_type": "execute_result"
    }
   ],
   "source": [
    "#mostra todos os valores dos elementos dentro do dicionario\n",
    "dicionario.values()"
   ]
  },
  {
   "cell_type": "code",
   "execution_count": 40,
   "id": "563342c5-313c-4f26-a087-7e20e73b12de",
   "metadata": {},
   "outputs": [],
   "source": [
    "#manipulando srtings\n",
    "\n",
    "apresentacao = 'meu nome é lua e eu moro em slz'"
   ]
  },
  {
   "cell_type": "code",
   "execution_count": 42,
   "id": "0f525eb5-a5c5-40f2-a277-907c4be30fdf",
   "metadata": {},
   "outputs": [
    {
     "data": {
      "text/plain": [
       "'munm  u  u'"
      ]
     },
     "execution_count": 42,
     "metadata": {},
     "output_type": "execute_result"
    }
   ],
   "source": [
    "#faz uma busca de caracteres \n",
    "apresentacao[2]\n",
    "#pula os  caracteres de 2 em 2\n",
    "apresentacao[0:20:2]"
   ]
  },
  {
   "cell_type": "code",
   "execution_count": 45,
   "id": "3b45f6a2-25c5-45b6-ae7a-9a5ce059b9e4",
   "metadata": {},
   "outputs": [
    {
     "data": {
      "text/plain": [
       "4"
      ]
     },
     "execution_count": 45,
     "metadata": {},
     "output_type": "execute_result"
    }
   ],
   "source": [
    "#faz a contagem de quantos elementos especificados tem na string\n",
    "apresentacao.count('m')"
   ]
  },
  {
   "cell_type": "code",
   "execution_count": 46,
   "id": "71c459c4-3456-488c-8c3c-8cd4e2d1702d",
   "metadata": {},
   "outputs": [
    {
     "data": {
      "text/plain": [
       "31"
      ]
     },
     "execution_count": 46,
     "metadata": {},
     "output_type": "execute_result"
    }
   ],
   "source": [
    "#faz a contagem de quantos caracteres há na sring\n",
    "len(apresentacao)"
   ]
  },
  {
   "cell_type": "code",
   "execution_count": 48,
   "id": "c4f7ce13-08ba-4ffb-9394-146538ca7d45",
   "metadata": {},
   "outputs": [
    {
     "data": {
      "text/plain": [
       "'meu nome é lua e eu moro na ilha do amor'"
      ]
     },
     "execution_count": 48,
     "metadata": {},
     "output_type": "execute_result"
    }
   ],
   "source": [
    "#faz a troca de um elemento por outro\n",
    "apresentacao.replace('em slz', 'na ilha do amor')"
   ]
  },
  {
   "cell_type": "code",
   "execution_count": null,
   "id": "ad44f862-902e-4c19-9327-9522ad8f6f76",
   "metadata": {},
   "outputs": [],
   "source": []
  }
 ],
 "metadata": {
  "kernelspec": {
   "display_name": "Python 3 (ipykernel)",
   "language": "python",
   "name": "python3"
  },
  "language_info": {
   "codemirror_mode": {
    "name": "ipython",
    "version": 3
   },
   "file_extension": ".py",
   "mimetype": "text/x-python",
   "name": "python",
   "nbconvert_exporter": "python",
   "pygments_lexer": "ipython3",
   "version": "3.11.7"
  }
 },
 "nbformat": 4,
 "nbformat_minor": 5
}
