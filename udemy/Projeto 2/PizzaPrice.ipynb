{
 "cells": [
  {
   "cell_type": "code",
   "execution_count": 2,
   "id": "b6774d65-661e-428f-9186-8a83f8d629a3",
   "metadata": {},
   "outputs": [],
   "source": [
    "#passo a passo do projeto\n",
    "#1. importar as bibliotecas necessárias\n",
    "#2. criar um conjunto de dados fictíco com o diâmetro e preço de pizzas\n",
    "#3. visualizar os dados em um gráfico de dispersão\n",
    "#4. criar e treinar um modelo de regressão linear com os dados\n",
    "#5. avaliar o desempenho do modelo com algumas métricas\n",
    "#6. fazer uma previsão para nova pizza"
   ]
  },
  {
   "cell_type": "code",
   "execution_count": 3,
   "id": "903e978a",
   "metadata": {},
   "outputs": [],
   "source": [
    "#1. importar as bibliotecas necessárias\n",
    "import numpy as np #manipular os arrays\n",
    "import matplotlib.pyplot as plt #visualização de dados\n",
    "\n",
    "from sklearn.linear_model import LinearRegression #criar o modelo de regressão linear\n",
    "from sklearn.metrics import mean_squared_error, r2_score #para avaliar o modelo"
   ]
  },
  {
   "cell_type": "code",
   "execution_count": 4,
   "id": "325030f3",
   "metadata": {},
   "outputs": [],
   "source": [
    "#2. criar um conjunto de dados fictícos com o diâmetro e preço de pizzas\n",
    "x = np.array([6, 8, 10, 14, 18]) #diâmetro em polegadas das pizzas\n",
    "y = np.array([7, 9, 13, 17.5, 18]) #preço em reais"
   ]
  },
  {
   "cell_type": "code",
   "execution_count": 5,
   "id": "974f25ab",
   "metadata": {},
   "outputs": [
    {
     "data": {
      "image/png": "[encoded data removed]",
      "text/plain": [
       "<Figure size 640x480 with 1 Axes>"
      ]
     },
     "metadata": {},
     "output_type": "display_data"
    }
   ],
   "source": [
    "#3. visualizar os dados em um gráfico de dispersão\n",
    "plt.scatter(x, y) #verificar a relação entre as variáveis\n",
    "\n",
    "plt.xlabel(\"Diâmetro em Polegadas\") #descrição - titulo no eixo x\n",
    "plt.ylabel(\"Preço em Reais\") #descrição - titulo no eixo y\n",
    "plt.title(\"Preço da pizza em razão do seu diâmetro\") #titulo geral do gráfico\n",
    "\n",
    "plt.show()"
   ]
  },
  {
   "cell_type": "code",
   "execution_count": 6,
   "id": "4803a89f",
   "metadata": {},
   "outputs": [
    {
     "data": {
      "text/html": [
       "<style>#sk-container-id-1 {color: black;background-color: white;}#sk-container-id-1 pre{padding: 0;}#sk-container-id-1 div.sk-toggleable {background-color: white;}#sk-container-id-1 label.sk-toggleable__label {cursor: pointer;display: block;width: 100%;margin-bottom: 0;padding: 0.3em;box-sizing: border-box;text-align: center;}#sk-container-id-1 label.sk-toggleable__label-arrow:before {content: \"▸\";float: left;margin-right: 0.25em;color: #696969;}#sk-container-id-1 label.sk-toggleable__label-arrow:hover:before {color: black;}#sk-container-id-1 div.sk-estimator:hover label.sk-toggleable__label-arrow:before {color: black;}#sk-container-id-1 div.sk-toggleable__content {max-height: 0;max-width: 0;overflow: hidden;text-align: left;background-color: #f0f8ff;}#sk-container-id-1 div.sk-toggleable__content pre {margin: 0.2em;color: black;border-radius: 0.25em;background-color: #f0f8ff;}#sk-container-id-1 input.sk-toggleable__control:checked~div.sk-toggleable__content {max-height: 200px;max-width: 100%;overflow: auto;}#sk-container-id-1 input.sk-toggleable__control:checked~label.sk-toggleable__label-arrow:before {content: \"▾\";}#sk-container-id-1 div.sk-estimator input.sk-toggleable__control:checked~label.sk-toggleable__label {background-color: #d4ebff;}#sk-container-id-1 div.sk-label input.sk-toggleable__control:checked~label.sk-toggleable__label {background-color: #d4ebff;}#sk-container-id-1 input.sk-hidden--visually {border: 0;clip: rect(1px 1px 1px 1px);clip: rect(1px, 1px, 1px, 1px);height: 1px;margin: -1px;overflow: hidden;padding: 0;position: absolute;width: 1px;}#sk-container-id-1 div.sk-estimator {font-family: monospace;background-color: #f0f8ff;border: 1px dotted black;border-radius: 0.25em;box-sizing: border-box;margin-bottom: 0.5em;}#sk-container-id-1 div.sk-estimator:hover {background-color: #d4ebff;}#sk-container-id-1 div.sk-parallel-item::after {content: \"\";width: 100%;border-bottom: 1px solid gray;flex-grow: 1;}#sk-container-id-1 div.sk-label:hover label.sk-toggleable__label {background-color: #d4ebff;}#sk-container-id-1 div.sk-serial::before {content: \"\";position: absolute;border-left: 1px solid gray;box-sizing: border-box;top: 0;bottom: 0;left: 50%;z-index: 0;}#sk-container-id-1 div.sk-serial {display: flex;flex-direction: column;align-items: center;background-color: white;padding-right: 0.2em;padding-left: 0.2em;position: relative;}#sk-container-id-1 div.sk-item {position: relative;z-index: 1;}#sk-container-id-1 div.sk-parallel {display: flex;align-items: stretch;justify-content: center;background-color: white;position: relative;}#sk-container-id-1 div.sk-item::before, #sk-container-id-1 div.sk-parallel-item::before {content: \"\";position: absolute;border-left: 1px solid gray;box-sizing: border-box;top: 0;bottom: 0;left: 50%;z-index: -1;}#sk-container-id-1 div.sk-parallel-item {display: flex;flex-direction: column;z-index: 1;position: relative;background-color: white;}#sk-container-id-1 div.sk-parallel-item:first-child::after {align-self: flex-end;width: 50%;}#sk-container-id-1 div.sk-parallel-item:last-child::after {align-self: flex-start;width: 50%;}#sk-container-id-1 div.sk-parallel-item:only-child::after {width: 0;}#sk-container-id-1 div.sk-dashed-wrapped {border: 1px dashed gray;margin: 0 0.4em 0.5em 0.4em;box-sizing: border-box;padding-bottom: 0.4em;background-color: white;}#sk-container-id-1 div.sk-label label {font-family: monospace;font-weight: bold;display: inline-block;line-height: 1.2em;}#sk-container-id-1 div.sk-label-container {text-align: center;}#sk-container-id-1 div.sk-container {/* jupyter's `normalize.less` sets `[hidden] { display: none; }` but bootstrap.min.css set `[hidden] { display: none !important; }` so we also need the `!important` here to be able to override the default hidden behavior on the sphinx rendered scikit-learn.org. See: https://github.com/scikit-learn/scikit-learn/issues/21755 */display: inline-block !important;position: relative;}#sk-container-id-1 div.sk-text-repr-fallback {display: none;}</style><div id=\"sk-container-id-1\" class=\"sk-top-container\"><div class=\"sk-text-repr-fallback\"><pre>LinearRegression()</pre><b>In a Jupyter environment, please rerun this cell to show the HTML representation or trust the notebook. <br />On GitHub, the HTML representation is unable to render, please try loading this page with nbviewer.org.</b></div><div class=\"sk-container\" hidden><div class=\"sk-item\"><div class=\"sk-estimator sk-toggleable\"><input class=\"sk-toggleable__control sk-hidden--visually\" id=\"sk-estimator-id-1\" type=\"checkbox\" checked><label for=\"sk-estimator-id-1\" class=\"sk-toggleable__label sk-toggleable__label-arrow\">LinearRegression</label><div class=\"sk-toggleable__content\"><pre>LinearRegression()</pre></div></div></div></div></div>"
      ],
      "text/plain": [
       "LinearRegression()"
      ]
     },
     "execution_count": 6,
     "metadata": {},
     "output_type": "execute_result"
    }
   ],
   "source": [
    "#4. criar e treinar um modelo de regressão linear com os dados\n",
    "model = LinearRegression() #instanciar o modelo\n",
    "x = x.reshape(-1,1) #transformar o array x em matriz de coluna\n",
    "model.fit(x, y) #treinar o modelo com os dados"
   ]
  },
  {
   "cell_type": "code",
   "execution_count": 7,
   "id": "2d13749e",
   "metadata": {},
   "outputs": [
    {
     "name": "stdout",
     "output_type": "stream",
     "text": [
      "1.7495689655172406\n",
      "0.9100015964240102\n"
     ]
    }
   ],
   "source": [
    "#5. avaliar o desempenho do modelo com algumas métricas\n",
    "y_pred = model.predict(x) #fazer previsões da variavel y com base na variavel de treino x\n",
    "mse = mean_squared_error(y,y_pred) #nomear a variavel com a biblioteca, que vai se comunicar com a variavel y \n",
    "#e sua variavel de previsão para calcular o erro quadratico medio\n",
    "r2 = r2_score(y,y_pred) #calcular o coeficiente de determinação\n",
    "print(mse)\n",
    "print(r2)"
   ]
  },
  {
   "cell_type": "markdown",
   "id": "2e6609ba",
   "metadata": {},
   "source": [
    "Há 91% de chance de acerto do coeficiente de determinação."
   ]
  },
  {
   "cell_type": "code",
   "execution_count": 8,
   "id": "a9e33797",
   "metadata": {},
   "outputs": [],
   "source": [
    "#6. fazer uma previsão para nova pizza\n",
    "x_new = np.array([12])\n",
    "y_new = model.predict(x_new.reshape(-1, 1)) #transforma o array em uma matriz)"
   ]
  },
  {
   "cell_type": "code",
   "execution_count": 9,
   "id": "303259fa",
   "metadata": {},
   "outputs": [
    {
     "name": "stdout",
     "output_type": "stream",
     "text": [
      "[12] [13.68103448]\n"
     ]
    }
   ],
   "source": [
    "print(x_new, y_new)"
   ]
  },
  {
   "cell_type": "markdown",
   "id": "86c44e29",
   "metadata": {},
   "source": [
    "Uma pizza de 12 polegadas custará em uma margem de R$13,68 reais. Com uma taxa de 91% de acerto."
   ]
  },
  {
   "cell_type": "code",
   "execution_count": 10,
   "id": "f768b50d",
   "metadata": {},
   "outputs": [
    {
     "name": "stdout",
     "output_type": "stream",
     "text": [
      "Uma pizza de 12 de diâmetro, custará R$13.68 reais.\n"
     ]
    }
   ],
   "source": [
    "#formartar os dados para melhor visualização\n",
    "print(f'Uma pizza de {x_new[0]} de diâmetro, custará R${y_new[0]:.2f} reais.')"
   ]
  },
  {
   "cell_type": "code",
   "execution_count": null,
   "id": "e1f70df0",
   "metadata": {},
   "outputs": [],
   "source": []
  }
 ],
 "metadata": {
  "kernelspec": {
   "display_name": "Python 3 (ipykernel)",
   "language": "python",
   "name": "python3"
  },
  "language_info": {
   "codemirror_mode": {
    "name": "ipython",
    "version": 3
   },
   "file_extension": ".py",
   "mimetype": "text/x-python",
   "name": "python",
   "nbconvert_exporter": "python",
   "pygments_lexer": "ipython3",
   "version": "3.11.7"
  }
 },
 "nbformat": 4,
 "nbformat_minor": 5
}
