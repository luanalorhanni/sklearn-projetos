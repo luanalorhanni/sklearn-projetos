{
 "cells": [
  {
   "cell_type": "code",
   "execution_count": 1,
   "id": "47095901-e2c8-4777-b399-def1535ee27c",
   "metadata": {},
   "outputs": [
    {
     "data": {
      "text/plain": [
       "list"
      ]
     },
     "execution_count": 1,
     "metadata": {},
     "output_type": "execute_result"
    }
   ],
   "source": [
    "lista01 = [1, 2, 3]\n",
    "type(lista01)"
   ]
  },
  {
   "cell_type": "code",
   "execution_count": 3,
   "id": "f52f349b-de7d-4c40-a468-1e7537af1969",
   "metadata": {},
   "outputs": [
    {
     "data": {
      "text/plain": [
       "list"
      ]
     },
     "execution_count": 3,
     "metadata": {},
     "output_type": "execute_result"
    }
   ],
   "source": [
    "lista02 = [[1, 2, 3], [4, 5, 6], [7, 8, 9]]\n",
    "type(lista02)"
   ]
  },
  {
   "cell_type": "code",
   "execution_count": 5,
   "id": "7c55eb1f-1996-4d9e-975c-b5996d70ad34",
   "metadata": {},
   "outputs": [
    {
     "name": "stdout",
     "output_type": "stream",
     "text": [
      "3\n",
      "7\n"
     ]
    }
   ],
   "source": [
    "#a leitura dos dados será feita a partir de 0 1 2\n",
    "print(lista02[0][2])\n",
    "print(lista02[2][0])"
   ]
  },
  {
   "cell_type": "code",
   "execution_count": 7,
   "id": "4260c4c7-efb7-4a16-a659-b91fb1a82666",
   "metadata": {},
   "outputs": [
    {
     "name": "stdout",
     "output_type": "stream",
     "text": [
      "7\n"
     ]
    },
    {
     "data": {
      "text/plain": [
       "int"
      ]
     },
     "execution_count": 7,
     "metadata": {},
     "output_type": "execute_result"
    }
   ],
   "source": [
    "teste = (lista02[2][0])\n",
    "print(teste)\n",
    "type(teste)\n",
    "#ao tornar uma variavel, mostrará o tipo de valor quando está dentro da lista "
   ]
  },
  {
   "cell_type": "code",
   "execution_count": 2,
   "id": "0d022cec-488c-4742-8e65-f294701c9455",
   "metadata": {},
   "outputs": [
    {
     "name": "stdout",
     "output_type": "stream",
     "text": [
      "a cor sorteada é: verde\n"
     ]
    }
   ],
   "source": [
    "import random\n",
    "cores = ['azul', 'vermelho', 'verde']\n",
    "#a biblioteca possibilita que seja feito um sorteio atraves do choice com escolha aleatoria.\n",
    "sorteada = random.choice(cores)\n",
    "\n",
    "print(\"a cor sorteada é:\",sorteada)"
   ]
  },
  {
   "cell_type": "code",
   "execution_count": 2,
   "id": "b8a66d69-acf4-4b59-a6c8-ac2a3312b18e",
   "metadata": {},
   "outputs": [
    {
     "name": "stdout",
     "output_type": "stream",
     "text": [
      "[10, 11, 12, 13]\n"
     ]
    }
   ],
   "source": [
    "x = [10, 11, 12]\n",
    "x.append(13)\n",
    "\n",
    "print(x)"
   ]
  },
  {
   "cell_type": "code",
   "execution_count": 3,
   "id": "89346abb-61b8-4e84-ba1f-8016856bf42e",
   "metadata": {},
   "outputs": [
    {
     "name": "stdout",
     "output_type": "stream",
     "text": [
      "[10, 11, 12, 13, 15, 16, 17]\n"
     ]
    }
   ],
   "source": [
    "y = [15, 16, 17]\n",
    "\n",
    "for item in y: #para o item em y\n",
    "    x.append(item) #acresentar y em x\n",
    "print(x) #mostrar x modificado\n",
    "\n",
    "#adicionar a lista x a lista y"
   ]
  },
  {
   "cell_type": "code",
   "execution_count": 5,
   "id": "2410a6f8-5b20-477d-975d-cb55630d7d2c",
   "metadata": {},
   "outputs": [
    {
     "name": "stdout",
     "output_type": "stream",
     "text": [
      "[2, 3, 5, 7, 11]\n"
     ]
    }
   ],
   "source": [
    "z = [2, 3, 5, 7, 11]\n",
    "a = []\n",
    "for i in z:\n",
    "    a.append(i)\n",
    "print(a)\n",
    "\n",
    "#tambem adiciona itens a uma lista vazia com i "
   ]
  },
  {
   "cell_type": "code",
   "execution_count": 13,
   "id": "08e76763-4557-4e09-a3cc-7abf48c9cf29",
   "metadata": {},
   "outputs": [
    {
     "name": "stdout",
     "output_type": "stream",
     "text": [
      "(1, 2, 3, 4)\n"
     ]
    },
    {
     "data": {
      "text/plain": [
       "tuple"
      ]
     },
     "execution_count": 13,
     "metadata": {},
     "output_type": "execute_result"
    }
   ],
   "source": [
    "#tuplas\n",
    "#escrita entre parenteses e com virgula\n",
    "\n",
    "tupla = (5, 6, 7, 8)\n",
    "type(tupla)\n",
    "#na tupla o append nao funciona, é imutavel. nao podemos adicionar valores dentro.\n",
    "\n",
    "#porem podemos transformar listas em tuplas.\n",
    "lista = [1, 2, 3, 4]\n",
    "tupla2 = tuple(lista)\n",
    "print(tupla2)\n",
    "type(tupla2)"
   ]
  },
  {
   "cell_type": "code",
   "execution_count": 15,
   "id": "3a40d470-bfb2-4271-a554-b21c1a6fe0d1",
   "metadata": {},
   "outputs": [
    {
     "data": {
      "text/plain": [
       "tuple"
      ]
     },
     "execution_count": 15,
     "metadata": {},
     "output_type": "execute_result"
    }
   ],
   "source": [
    "v = (3, 4, 'lua')\n",
    "type(v)"
   ]
  },
  {
   "cell_type": "code",
   "execution_count": null,
   "id": "5b77bea0-6be1-4f2f-a6be-0a0a943d258c",
   "metadata": {},
   "outputs": [],
   "source": []
  }
 ],
 "metadata": {
  "kernelspec": {
   "display_name": "Python 3 (ipykernel)",
   "language": "python",
   "name": "python3"
  },
  "language_info": {
   "codemirror_mode": {
    "name": "ipython",
    "version": 3
   },
   "file_extension": ".py",
   "mimetype": "text/x-python",
   "name": "python",
   "nbconvert_exporter": "python",
   "pygments_lexer": "ipython3",
   "version": "3.11.7"
  }
 },
 "nbformat": 4,
 "nbformat_minor": 5
}
