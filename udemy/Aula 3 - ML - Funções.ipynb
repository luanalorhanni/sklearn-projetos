{
 "cells": [
  {
   "cell_type": "code",
   "execution_count": 3,
   "id": "8a882e3c-6e54-4e72-ae1f-a35687cfb901",
   "metadata": {},
   "outputs": [
    {
     "data": {
      "text/plain": [
       "50"
      ]
     },
     "execution_count": 3,
     "metadata": {},
     "output_type": "execute_result"
    }
   ],
   "source": [
    "#FUNÇÃO LAMBDA: determinando que a função só terá dois elementos \n",
    "def multiplicacao(x, y):\n",
    "    mult = x*y\n",
    "    return mult\n",
    "\n",
    "multiplicacao(10, 5)"
   ]
  },
  {
   "cell_type": "code",
   "execution_count": 4,
   "id": "fd38347c-e82c-4d57-aa9a-23b3ddf99113",
   "metadata": {},
   "outputs": [
    {
     "data": {
      "text/plain": [
       "20"
      ]
     },
     "execution_count": 4,
     "metadata": {},
     "output_type": "execute_result"
    }
   ],
   "source": [
    "#realizando a mesma função com lambda\n",
    "multiplicacao02 = lambda x, y: x*y\n",
    "multiplicacao(4, 5)"
   ]
  },
  {
   "cell_type": "code",
   "execution_count": 5,
   "id": "a255a45e-cbfc-47b0-a2ee-605e1aa0a6ce",
   "metadata": {},
   "outputs": [
    {
     "data": {
      "text/plain": [
       "30"
      ]
     },
     "execution_count": 5,
     "metadata": {},
     "output_type": "execute_result"
    }
   ],
   "source": [
    "num10 = lambda a: a*3\n",
    "num10(10)"
   ]
  },
  {
   "cell_type": "code",
   "execution_count": 16,
   "id": "12e4319a-4703-47b6-b911-e609086574a0",
   "metadata": {},
   "outputs": [
    {
     "name": "stdout",
     "output_type": "stream",
     "text": [
      "[25.4, 50.8, 76.19999999999999, 101.6, 127.0, 152.39999999999998, 177.79999999999998, 203.2]\n"
     ]
    }
   ],
   "source": [
    "#FUNÇÃO MAP: \n",
    "\n",
    "#nomeando a lista\n",
    "polegada = [1, 2, 3, 4, 5, 6, 7, 8]\n",
    "\n",
    "#lista vazia\n",
    "mm = []\n",
    "for i in polegada:\n",
    "#conversão para milimetros e inclusao na lista nova\n",
    "    mm.append(i*25.4)\n",
    "print(mm)"
   ]
  },
  {
   "cell_type": "code",
   "execution_count": 14,
   "id": "9262c1a3-14d8-4b8f-8b30-de5cbcf96945",
   "metadata": {
    "scrolled": true
   },
   "outputs": [
    {
     "name": "stdout",
     "output_type": "stream",
     "text": [
      "[25.4, 50.8, 76.19999999999999, 101.6, 127.0, 152.39999999999998, 177.79999999999998, 203.2]\n"
     ]
    }
   ],
   "source": [
    "#utilizando a função lambda\n",
    "\n",
    "mmm = list(map(lambda x: x*25.4, polegada))\n",
    "print(mmm)\n",
    "\n",
    "#na função map, precisamos especificar que é uma lista, para poder mapear \n",
    "#os elementos e adicionar na nova lista"
   ]
  },
  {
   "cell_type": "code",
   "execution_count": 18,
   "id": "a1a48c79-34e8-4fc7-a974-8dd13eddafeb",
   "metadata": {},
   "outputs": [
    {
     "name": "stdout",
     "output_type": "stream",
     "text": [
      "[25.4, 50.8, 76.19999999999999, 101.6, 127.0, 152.39999999999998, 177.79999999999998, 203.2]\n"
     ]
    }
   ],
   "source": [
    "#compreensao de listas\n",
    "\n",
    "#vai coletar um dos valores da lista polegadas e vai multiplicar por 25.4\n",
    "mm3 = [x*25.4 for x in polegada]\n",
    "print(mm3)"
   ]
  },
  {
   "cell_type": "code",
   "execution_count": 19,
   "id": "1b6c071c-5873-4aca-b489-acaf6f167fa6",
   "metadata": {},
   "outputs": [
    {
     "name": "stdout",
     "output_type": "stream",
     "text": [
      "['m', 'a', 'r', 'a', 'n', 'h', 'a', 'o']\n"
     ]
    }
   ],
   "source": [
    "#busca de todos os caracteres \n",
    "estado = [i for i in \"maranhao\"]\n",
    "print(estado)"
   ]
  },
  {
   "cell_type": "code",
   "execution_count": null,
   "id": "57da7f05-5dab-474f-b096-1872fad688c2",
   "metadata": {},
   "outputs": [],
   "source": []
  }
 ],
 "metadata": {
  "kernelspec": {
   "display_name": "Python 3 (ipykernel)",
   "language": "python",
   "name": "python3"
  },
  "language_info": {
   "codemirror_mode": {
    "name": "ipython",
    "version": 3
   },
   "file_extension": ".py",
   "mimetype": "text/x-python",
   "name": "python",
   "nbconvert_exporter": "python",
   "pygments_lexer": "ipython3",
   "version": "3.11.7"
  }
 },
 "nbformat": 4,
 "nbformat_minor": 5
}
