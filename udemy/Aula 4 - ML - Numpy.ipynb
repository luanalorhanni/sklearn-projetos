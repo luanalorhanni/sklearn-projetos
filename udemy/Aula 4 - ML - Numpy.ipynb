{
 "cells": [
  {
   "cell_type": "code",
   "execution_count": 15,
   "id": "1b5a9284-58a8-411b-92c9-cd5b7af8c919",
   "metadata": {},
   "outputs": [
    {
     "name": "stdout",
     "output_type": "stream",
     "text": [
      "['a' 'b' 'c']\n",
      "[1 2 3]\n",
      "[[ 4  5  6]\n",
      " [ 7  8  9]\n",
      " [10 11 12]]\n",
      "[[0. 0. 0. 0.]\n",
      " [0. 0. 0. 0.]\n",
      " [0. 0. 0. 0.]]\n",
      "[[1. 1. 1. 1.]\n",
      " [1. 1. 1. 1.]\n",
      " [1. 1. 1. 1.]]\n",
      "[[1. 0. 0. 0.]\n",
      " [0. 1. 0. 0.]\n",
      " [0. 0. 1. 0.]\n",
      " [0. 0. 0. 1.]]\n"
     ]
    }
   ],
   "source": [
    "#importar biblioteca com nome especifico\n",
    "import numpy as np\n",
    "\n",
    "#formar linhas de matrizes\n",
    "a = np.array(['a', 'b', 'c'])\n",
    "print(a)\n",
    "\n",
    "b = np.array([1, 2 ,3])\n",
    "print(b)\n",
    "\n",
    "#formar matrizes 3x3\n",
    "c= np.array([(4, 5, 6), (7, 8, 9), (10, 11, 12)])\n",
    "print(c)\n",
    "\n",
    "#formar matrizes de zeros 3x4\n",
    "d = np.zeros((3,4))\n",
    "print(d)\n",
    "\n",
    "#formar matrizes de um 3x4\n",
    "e = np.ones((3,4))\n",
    "print(e)\n",
    "\n",
    "#formar matrizes com diagonal de 1, ela ja calcula o numero de colunas, vc so da o numero de linhas.\n",
    "f = np.eye(4)\n",
    "print(f)"
   ]
  },
  {
   "cell_type": "code",
   "execution_count": 18,
   "id": "847755ca-ce3b-44aa-8dd6-f9cef84f23a0",
   "metadata": {},
   "outputs": [
    {
     "data": {
      "text/plain": [
       "2.581988897471611"
      ]
     },
     "execution_count": 18,
     "metadata": {},
     "output_type": "execute_result"
    }
   ],
   "source": [
    "#operações com valores em matrizes\n",
    "\n",
    "c.sum()\n",
    "#operações de soma com os valores da matriz c\n",
    "\n",
    "c.mean()\n",
    "#operações de média com os valores da matriz c\n",
    "\n",
    "c.std()\n",
    "#calculo do desvio padrao com os valores da matriz c"
   ]
  },
  {
   "cell_type": "code",
   "execution_count": null,
   "id": "d6292f01-c5dd-4de5-9eac-07348e84e5be",
   "metadata": {},
   "outputs": [],
   "source": []
  }
 ],
 "metadata": {
  "kernelspec": {
   "display_name": "Python 3 (ipykernel)",
   "language": "python",
   "name": "python3"
  },
  "language_info": {
   "codemirror_mode": {
    "name": "ipython",
    "version": 3
   },
   "file_extension": ".py",
   "mimetype": "text/x-python",
   "name": "python",
   "nbconvert_exporter": "python",
   "pygments_lexer": "ipython3",
   "version": "3.11.7"
  }
 },
 "nbformat": 4,
 "nbformat_minor": 5
}
